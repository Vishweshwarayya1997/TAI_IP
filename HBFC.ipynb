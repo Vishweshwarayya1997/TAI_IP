{
 "cells": [
  {
   "cell_type": "code",
   "execution_count": 1,
   "id": "df8ff65c",
   "metadata": {},
   "outputs": [],
   "source": [
    "## Bank_Personal_Loan_Modelling\n",
    "\n",
    "import pandas as pd\n",
    "import seaborn as sns\n",
    "import numpy as np"
   ]
  },
  {
   "cell_type": "code",
   "execution_count": 6,
   "id": "24151994",
   "metadata": {},
   "outputs": [],
   "source": [
    "HBFC = pd.read_excel(r'C:\\Users\\ASUS\\Downloads\\HBFC Bank.xlsx', sheet_name='Bank_Personal_Loan_Modelling')"
   ]
  },
  {
   "cell_type": "code",
   "execution_count": 7,
   "id": "2505611c",
   "metadata": {},
   "outputs": [
    {
     "data": {
      "text/html": [
       "<div>\n",
       "<style scoped>\n",
       "    .dataframe tbody tr th:only-of-type {\n",
       "        vertical-align: middle;\n",
       "    }\n",
       "\n",
       "    .dataframe tbody tr th {\n",
       "        vertical-align: top;\n",
       "    }\n",
       "\n",
       "    .dataframe thead th {\n",
       "        text-align: right;\n",
       "    }\n",
       "</style>\n",
       "<table border=\"1\" class=\"dataframe\">\n",
       "  <thead>\n",
       "    <tr style=\"text-align: right;\">\n",
       "      <th></th>\n",
       "      <th>ID</th>\n",
       "      <th>Age (in years)</th>\n",
       "      <th>Experience (in years)</th>\n",
       "      <th>Income (in K/year)</th>\n",
       "      <th>Income Categorical</th>\n",
       "      <th>ZIP Code</th>\n",
       "      <th>Family members</th>\n",
       "      <th>CCAvg</th>\n",
       "      <th>Education</th>\n",
       "      <th>Mortgage</th>\n",
       "      <th>Personal Loan</th>\n",
       "      <th>Securities Account</th>\n",
       "      <th>TD Account</th>\n",
       "      <th>Online</th>\n",
       "      <th>CreditCard</th>\n",
       "    </tr>\n",
       "  </thead>\n",
       "  <tbody>\n",
       "    <tr>\n",
       "      <th>0</th>\n",
       "      <td>15</td>\n",
       "      <td>67</td>\n",
       "      <td>41</td>\n",
       "      <td>112</td>\n",
       "      <td>100+</td>\n",
       "      <td>91741</td>\n",
       "      <td>1.0</td>\n",
       "      <td>2.0</td>\n",
       "      <td>Undergraduate</td>\n",
       "      <td>0</td>\n",
       "      <td>No</td>\n",
       "      <td>Yes</td>\n",
       "      <td>No</td>\n",
       "      <td>No</td>\n",
       "      <td>No</td>\n",
       "    </tr>\n",
       "    <tr>\n",
       "      <th>1</th>\n",
       "      <td>1481</td>\n",
       "      <td>67</td>\n",
       "      <td>42</td>\n",
       "      <td>32</td>\n",
       "      <td>0-50</td>\n",
       "      <td>93943</td>\n",
       "      <td>1.0</td>\n",
       "      <td>1.1</td>\n",
       "      <td>Professional</td>\n",
       "      <td>0</td>\n",
       "      <td>No</td>\n",
       "      <td>No</td>\n",
       "      <td>No</td>\n",
       "      <td>No</td>\n",
       "      <td>Yes</td>\n",
       "    </tr>\n",
       "    <tr>\n",
       "      <th>2</th>\n",
       "      <td>1860</td>\n",
       "      <td>67</td>\n",
       "      <td>41</td>\n",
       "      <td>20</td>\n",
       "      <td>0-50</td>\n",
       "      <td>91741</td>\n",
       "      <td>2.0</td>\n",
       "      <td>0.4</td>\n",
       "      <td>Undergraduate</td>\n",
       "      <td>80</td>\n",
       "      <td>No</td>\n",
       "      <td>No</td>\n",
       "      <td>No</td>\n",
       "      <td>No</td>\n",
       "      <td>No</td>\n",
       "    </tr>\n",
       "    <tr>\n",
       "      <th>3</th>\n",
       "      <td>2847</td>\n",
       "      <td>67</td>\n",
       "      <td>43</td>\n",
       "      <td>105</td>\n",
       "      <td>100+</td>\n",
       "      <td>93711</td>\n",
       "      <td>4.0</td>\n",
       "      <td>1.7</td>\n",
       "      <td>Graduate</td>\n",
       "      <td>0</td>\n",
       "      <td>No</td>\n",
       "      <td>No</td>\n",
       "      <td>No</td>\n",
       "      <td>Yes</td>\n",
       "      <td>No</td>\n",
       "    </tr>\n",
       "    <tr>\n",
       "      <th>4</th>\n",
       "      <td>3265</td>\n",
       "      <td>67</td>\n",
       "      <td>41</td>\n",
       "      <td>114</td>\n",
       "      <td>100+</td>\n",
       "      <td>95616</td>\n",
       "      <td>4.0</td>\n",
       "      <td>2.4</td>\n",
       "      <td>Professional</td>\n",
       "      <td>0</td>\n",
       "      <td>No</td>\n",
       "      <td>No</td>\n",
       "      <td>No</td>\n",
       "      <td>Yes</td>\n",
       "      <td>No</td>\n",
       "    </tr>\n",
       "  </tbody>\n",
       "</table>\n",
       "</div>"
      ],
      "text/plain": [
       "     ID  Age (in years)  Experience (in years)  Income (in K/year)  \\\n",
       "0    15              67                     41                 112   \n",
       "1  1481              67                     42                  32   \n",
       "2  1860              67                     41                  20   \n",
       "3  2847              67                     43                 105   \n",
       "4  3265              67                     41                 114   \n",
       "\n",
       "  Income Categorical  ZIP Code  Family members  CCAvg      Education  \\\n",
       "0               100+     91741             1.0    2.0  Undergraduate   \n",
       "1               0-50     93943             1.0    1.1   Professional   \n",
       "2               0-50     91741             2.0    0.4  Undergraduate   \n",
       "3               100+     93711             4.0    1.7       Graduate   \n",
       "4               100+     95616             4.0    2.4   Professional   \n",
       "\n",
       "   Mortgage Personal Loan Securities Account TD Account Online CreditCard  \n",
       "0         0            No                Yes         No     No         No  \n",
       "1         0            No                 No         No     No        Yes  \n",
       "2        80            No                 No         No     No         No  \n",
       "3         0            No                 No         No    Yes         No  \n",
       "4         0            No                 No         No    Yes         No  "
      ]
     },
     "execution_count": 7,
     "metadata": {},
     "output_type": "execute_result"
    }
   ],
   "source": [
    "HBFC.head()"
   ]
  },
  {
   "cell_type": "code",
   "execution_count": 8,
   "id": "b8ffe912",
   "metadata": {},
   "outputs": [
    {
     "data": {
      "text/plain": [
       "ID                        0\n",
       "Age (in years)            0\n",
       "Experience (in years)     0\n",
       "Income (in K/year)        0\n",
       "Income Categorical        0\n",
       "ZIP Code                  0\n",
       "Family members           18\n",
       "CCAvg                     0\n",
       "Education                 0\n",
       "Mortgage                  0\n",
       "Personal Loan             0\n",
       "Securities Account        0\n",
       "TD Account                0\n",
       "Online                    0\n",
       "CreditCard                0\n",
       "dtype: int64"
      ]
     },
     "execution_count": 8,
     "metadata": {},
     "output_type": "execute_result"
    }
   ],
   "source": [
    "HBFC.isnull().sum()"
   ]
  },
  {
   "cell_type": "code",
   "execution_count": 9,
   "id": "c8257f96",
   "metadata": {},
   "outputs": [
    {
     "data": {
      "text/plain": [
       "Index(['ID', 'Age (in years)', 'Experience (in years)', 'Income (in K/year)',\n",
       "       'Income Categorical', 'ZIP Code', 'Family members', 'CCAvg',\n",
       "       'Education', 'Mortgage', 'Personal Loan', 'Securities Account',\n",
       "       'TD Account', 'Online', 'CreditCard'],\n",
       "      dtype='object')"
      ]
     },
     "execution_count": 9,
     "metadata": {},
     "output_type": "execute_result"
    }
   ],
   "source": [
    "HBFC.columns"
   ]
  },
  {
   "cell_type": "code",
   "execution_count": 10,
   "id": "7c7e52c0",
   "metadata": {},
   "outputs": [],
   "source": [
    "HBFC['Family members']=HBFC['Family members'].fillna(HBFC['Family members'].mean())"
   ]
  },
  {
   "cell_type": "code",
   "execution_count": 11,
   "id": "f30945fa",
   "metadata": {},
   "outputs": [
    {
     "data": {
      "text/plain": [
       "ID                       0\n",
       "Age (in years)           0\n",
       "Experience (in years)    0\n",
       "Income (in K/year)       0\n",
       "Income Categorical       0\n",
       "ZIP Code                 0\n",
       "Family members           0\n",
       "CCAvg                    0\n",
       "Education                0\n",
       "Mortgage                 0\n",
       "Personal Loan            0\n",
       "Securities Account       0\n",
       "TD Account               0\n",
       "Online                   0\n",
       "CreditCard               0\n",
       "dtype: int64"
      ]
     },
     "execution_count": 11,
     "metadata": {},
     "output_type": "execute_result"
    }
   ],
   "source": [
    "HBFC.isnull().sum()"
   ]
  },
  {
   "cell_type": "code",
   "execution_count": 13,
   "id": "428c7028",
   "metadata": {},
   "outputs": [],
   "source": [
    "HBFC_dummies = pd.get_dummies(HBFC,prefix=['PL'],columns=['Personal Loan'])"
   ]
  },
  {
   "cell_type": "code",
   "execution_count": 23,
   "id": "ddb5a24a",
   "metadata": {},
   "outputs": [],
   "source": [
    "percentage_pl = HBFC_dummies['PL_Yes'].count()/HBFC_dummies['PL_Yes'].sum()"
   ]
  },
  {
   "cell_type": "code",
   "execution_count": 24,
   "id": "d21b32db",
   "metadata": {},
   "outputs": [
    {
     "data": {
      "text/plain": [
       "10.416666666666666"
      ]
     },
     "execution_count": 24,
     "metadata": {},
     "output_type": "execute_result"
    }
   ],
   "source": [
    "percentage_pl"
   ]
  },
  {
   "cell_type": "code",
   "execution_count": 35,
   "id": "2ca83301",
   "metadata": {
    "collapsed": true
   },
   "outputs": [
    {
     "name": "stderr",
     "output_type": "stream",
     "text": [
      "C:\\Users\\ASUS\\AppData\\Local\\Temp\\ipykernel_1244\\1912380927.py:1: FutureWarning: The default value of numeric_only in DataFrame.median is deprecated. In a future version, it will default to False. In addition, specifying 'numeric_only=None' is deprecated. Select only valid columns or specify the value of numeric_only to silence this warning.\n",
      "  median_values = HBFC_dummies.median()\n"
     ]
    }
   ],
   "source": [
    "\n",
    "median_values = HBFC_dummies.median()\n"
   ]
  },
  {
   "cell_type": "code",
   "execution_count": 36,
   "id": "1b19412d",
   "metadata": {
    "collapsed": true
   },
   "outputs": [
    {
     "data": {
      "text/plain": [
       "ID                        2500.5\n",
       "Age (in years)              45.0\n",
       "Experience (in years)       20.0\n",
       "Income (in K/year)          64.0\n",
       "ZIP Code                 93437.0\n",
       "Family members               2.0\n",
       "CCAvg                        1.5\n",
       "Mortgage                     0.0\n",
       "PL_No                        1.0\n",
       "PL_Yes                       0.0\n",
       "dtype: float64"
      ]
     },
     "execution_count": 36,
     "metadata": {},
     "output_type": "execute_result"
    }
   ],
   "source": [
    "median_values"
   ]
  },
  {
   "cell_type": "code",
   "execution_count": 37,
   "id": "117ecbe5",
   "metadata": {
    "collapsed": true
   },
   "outputs": [
    {
     "name": "stderr",
     "output_type": "stream",
     "text": [
      "C:\\Users\\ASUS\\AppData\\Local\\Temp\\ipykernel_1244\\2508650705.py:1: FutureWarning: The default value of numeric_only in DataFrame.mean is deprecated. In a future version, it will default to False. In addition, specifying 'numeric_only=None' is deprecated. Select only valid columns or specify the value of numeric_only to silence this warning.\n",
      "  mean_values = HBFC_dummies.mean()\n"
     ]
    }
   ],
   "source": [
    "mean_values = HBFC_dummies.mean()"
   ]
  },
  {
   "cell_type": "code",
   "execution_count": 38,
   "id": "d7fbab09",
   "metadata": {
    "collapsed": true
   },
   "outputs": [
    {
     "data": {
      "text/plain": [
       "ID                        2500.500000\n",
       "Age (in years)              45.338400\n",
       "Experience (in years)       20.134800\n",
       "Income (in K/year)          73.774200\n",
       "ZIP Code                 93152.503000\n",
       "Family members               2.397230\n",
       "CCAvg                        1.937938\n",
       "Mortgage                    56.498800\n",
       "PL_No                        0.904000\n",
       "PL_Yes                       0.096000\n",
       "dtype: float64"
      ]
     },
     "execution_count": 38,
     "metadata": {},
     "output_type": "execute_result"
    }
   ],
   "source": [
    "mean_values"
   ]
  },
  {
   "cell_type": "code",
   "execution_count": 39,
   "id": "556be91a",
   "metadata": {},
   "outputs": [],
   "source": [
    "max_values = HBFC_dummies.max()"
   ]
  },
  {
   "cell_type": "code",
   "execution_count": 40,
   "id": "c1fe1f9b",
   "metadata": {
    "collapsed": true
   },
   "outputs": [
    {
     "data": {
      "text/plain": [
       "ID                                5000\n",
       "Age (in years)                      67\n",
       "Experience (in years)               43\n",
       "Income (in K/year)                 224\n",
       "Income Categorical              51-100\n",
       "ZIP Code                         96651\n",
       "Family members                     4.0\n",
       "CCAvg                             10.0\n",
       "Education                Undergraduate\n",
       "Mortgage                           635\n",
       "Securities Account                 Yes\n",
       "TD Account                         Yes\n",
       "Online                             Yes\n",
       "CreditCard                         Yes\n",
       "PL_No                                1\n",
       "PL_Yes                               1\n",
       "dtype: object"
      ]
     },
     "execution_count": 40,
     "metadata": {},
     "output_type": "execute_result"
    }
   ],
   "source": [
    "max_values"
   ]
  },
  {
   "cell_type": "code",
   "execution_count": 41,
   "id": "e51a1c7f",
   "metadata": {
    "collapsed": true
   },
   "outputs": [
    {
     "data": {
      "text/plain": [
       "ID                              1\n",
       "Age (in years)                 23\n",
       "Experience (in years)           0\n",
       "Income (in K/year)              8\n",
       "Income Categorical           0-50\n",
       "ZIP Code                     9307\n",
       "Family members                1.0\n",
       "CCAvg                         0.0\n",
       "Education                Graduate\n",
       "Mortgage                        0\n",
       "Securities Account             No\n",
       "TD Account                     No\n",
       "Online                         No\n",
       "CreditCard                     No\n",
       "PL_No                           0\n",
       "PL_Yes                          0\n",
       "dtype: object"
      ]
     },
     "execution_count": 41,
     "metadata": {},
     "output_type": "execute_result"
    }
   ],
   "source": [
    "min_values =HBFC_dummies.min()\n",
    "min_values"
   ]
  },
  {
   "cell_type": "code",
   "execution_count": 45,
   "id": "9228e7fe",
   "metadata": {},
   "outputs": [
    {
     "data": {
      "image/png": "[encoded data removed]",
      "text/plain": [
       "<Figure size 640x480 with 1 Axes>"
      ]
     },
     "metadata": {},
     "output_type": "display_data"
    }
   ],
   "source": [
    "bins = [0, 10, 20, 30, 100]\n",
    "labels = ['0-10 years', '11-20 years', '21-30 years', '30+ years']\n",
    "\n",
    "HBFC_dummies['Experience (in years)'] = pd.cut(HBFC_dummies['Age (in years)'], bins=bins, labels=labels, right=False)\n",
    "\n",
    "# Plot a bar graph\n",
    "experience_counts = HBFC_dummies['Experience (in years)'].value_counts().sort_index()\n",
    "experience_counts.plot(kind='bar', color='skyblue')\n",
    "plt.title('Distribution of Experience')\n",
    "plt.xlabel('Experience')\n",
    "plt.ylabel('Count')\n",
    "plt.show()"
   ]
  },
  {
   "cell_type": "code",
   "execution_count": 46,
   "id": "b7c1b48d",
   "metadata": {},
   "outputs": [
    {
     "data": {
      "text/plain": [
       "Index(['ID', 'Age (in years)', 'Experience (in years)', 'Income (in K/year)',\n",
       "       'Income Categorical', 'ZIP Code', 'Family members', 'CCAvg',\n",
       "       'Education', 'Mortgage', 'Securities Account', 'TD Account', 'Online',\n",
       "       'CreditCard', 'PL_No', 'PL_Yes'],\n",
       "      dtype='object')"
      ]
     },
     "execution_count": 46,
     "metadata": {},
     "output_type": "execute_result"
    }
   ],
   "source": [
    "HBFC_dummies.columns"
   ]
  },
  {
   "cell_type": "code",
   "execution_count": 66,
   "id": "1bc164d3",
   "metadata": {},
   "outputs": [
    {
     "data": {
      "text/plain": [
       "Text(0.5, 1.0, 'Scatter')"
      ]
     },
     "execution_count": 66,
     "metadata": {},
     "output_type": "execute_result"
    },
    {
     "data": {
      "image/png": "[encoded data removed]",
      "text/plain": [
       "<Figure size 640x480 with 1 Axes>"
      ]
     },
     "metadata": {},
     "output_type": "display_data"
    }
   ],
   "source": [
    "plt.scatter(HBFC['Age (in years)'],HBFC['Experience (in years)'],color='blue')\n",
    "plt.xlabel('AGE')\n",
    "plt.ylabel('Experience')\n",
    "plt.title('Scatter')"
   ]
  },
  {
   "cell_type": "code",
   "execution_count": 63,
   "id": "8146dd88",
   "metadata": {},
   "outputs": [
    {
     "data": {
      "image/png": "[encoded data removed]",
      "text/plain": [
       "<Figure size 640x480 with 1 Axes>"
      ]
     },
     "metadata": {},
     "output_type": "display_data"
    }
   ],
   "source": [
    "import seaborn as sns\n",
    "sns.scatterplot(data=HBFC,x='Age (in years)',y='Experience (in years)',color=\"black\",hue='Age (in years)')\n",
    "plt.show()"
   ]
  },
  {
   "cell_type": "code",
   "execution_count": 67,
   "id": "a6e375a1",
   "metadata": {},
   "outputs": [],
   "source": [
    "top_zip_codes = HBFC['ZIP Code'].value_counts().head(3)"
   ]
  },
  {
   "cell_type": "code",
   "execution_count": 68,
   "id": "bcee41da",
   "metadata": {},
   "outputs": [
    {
     "data": {
      "text/plain": [
       "94720    169\n",
       "94305    127\n",
       "95616    116\n",
       "Name: ZIP Code, dtype: int64"
      ]
     },
     "execution_count": 68,
     "metadata": {},
     "output_type": "execute_result"
    }
   ],
   "source": [
    "top_zip_codes "
   ]
  },
  {
   "cell_type": "code",
   "execution_count": 72,
   "id": "1e072c6b",
   "metadata": {},
   "outputs": [
    {
     "data": {
      "text/plain": [
       "Index(['ID', 'Age (in years)', 'Experience (in years)', 'Income (in K/year)',\n",
       "       'Income Categorical', 'ZIP Code', 'Family members', 'CCAvg',\n",
       "       'Education', 'Mortgage', 'Personal Loan', 'Securities Account',\n",
       "       'TD Account', 'Online', 'CreditCard'],\n",
       "      dtype='object')"
      ]
     },
     "execution_count": 72,
     "metadata": {},
     "output_type": "execute_result"
    }
   ],
   "source": [
    "HBFC.columns"
   ]
  },
  {
   "cell_type": "code",
   "execution_count": null,
   "id": "e1a3b1ea",
   "metadata": {},
   "outputs": [],
   "source": [
    "## How many customers have a combination of Fixed Deposits and Credit Cards but not Personal Loan?"
   ]
  },
  {
   "cell_type": "code",
   "execution_count": 74,
   "id": "1b3a954a",
   "metadata": {},
   "outputs": [],
   "source": [
    "HBFC_dummies1= pd.get_dummies(HBFC, prefix=['PL','TD','Credit'], columns=['Personal Loan','TD Account','CreditCard'])"
   ]
  },
  {
   "cell_type": "code",
   "execution_count": 75,
   "id": "05e83eac",
   "metadata": {},
   "outputs": [
    {
     "data": {
      "text/html": [
       "<div>\n",
       "<style scoped>\n",
       "    .dataframe tbody tr th:only-of-type {\n",
       "        vertical-align: middle;\n",
       "    }\n",
       "\n",
       "    .dataframe tbody tr th {\n",
       "        vertical-align: top;\n",
       "    }\n",
       "\n",
       "    .dataframe thead th {\n",
       "        text-align: right;\n",
       "    }\n",
       "</style>\n",
       "<table border=\"1\" class=\"dataframe\">\n",
       "  <thead>\n",
       "    <tr style=\"text-align: right;\">\n",
       "      <th></th>\n",
       "      <th>ID</th>\n",
       "      <th>Age (in years)</th>\n",
       "      <th>Experience (in years)</th>\n",
       "      <th>Income (in K/year)</th>\n",
       "      <th>Income Categorical</th>\n",
       "      <th>ZIP Code</th>\n",
       "      <th>Family members</th>\n",
       "      <th>CCAvg</th>\n",
       "      <th>Education</th>\n",
       "      <th>Mortgage</th>\n",
       "      <th>Securities Account</th>\n",
       "      <th>Online</th>\n",
       "      <th>PL_No</th>\n",
       "      <th>PL_Yes</th>\n",
       "      <th>TD_No</th>\n",
       "      <th>TD_Yes</th>\n",
       "      <th>Credit_No</th>\n",
       "      <th>Credit_Yes</th>\n",
       "    </tr>\n",
       "  </thead>\n",
       "  <tbody>\n",
       "    <tr>\n",
       "      <th>0</th>\n",
       "      <td>15</td>\n",
       "      <td>67</td>\n",
       "      <td>41</td>\n",
       "      <td>112</td>\n",
       "      <td>100+</td>\n",
       "      <td>91741</td>\n",
       "      <td>1.0</td>\n",
       "      <td>2.0</td>\n",
       "      <td>Undergraduate</td>\n",
       "      <td>0</td>\n",
       "      <td>Yes</td>\n",
       "      <td>No</td>\n",
       "      <td>1</td>\n",
       "      <td>0</td>\n",
       "      <td>1</td>\n",
       "      <td>0</td>\n",
       "      <td>1</td>\n",
       "      <td>0</td>\n",
       "    </tr>\n",
       "    <tr>\n",
       "      <th>1</th>\n",
       "      <td>1481</td>\n",
       "      <td>67</td>\n",
       "      <td>42</td>\n",
       "      <td>32</td>\n",
       "      <td>0-50</td>\n",
       "      <td>93943</td>\n",
       "      <td>1.0</td>\n",
       "      <td>1.1</td>\n",
       "      <td>Professional</td>\n",
       "      <td>0</td>\n",
       "      <td>No</td>\n",
       "      <td>No</td>\n",
       "      <td>1</td>\n",
       "      <td>0</td>\n",
       "      <td>1</td>\n",
       "      <td>0</td>\n",
       "      <td>0</td>\n",
       "      <td>1</td>\n",
       "    </tr>\n",
       "    <tr>\n",
       "      <th>2</th>\n",
       "      <td>1860</td>\n",
       "      <td>67</td>\n",
       "      <td>41</td>\n",
       "      <td>20</td>\n",
       "      <td>0-50</td>\n",
       "      <td>91741</td>\n",
       "      <td>2.0</td>\n",
       "      <td>0.4</td>\n",
       "      <td>Undergraduate</td>\n",
       "      <td>80</td>\n",
       "      <td>No</td>\n",
       "      <td>No</td>\n",
       "      <td>1</td>\n",
       "      <td>0</td>\n",
       "      <td>1</td>\n",
       "      <td>0</td>\n",
       "      <td>1</td>\n",
       "      <td>0</td>\n",
       "    </tr>\n",
       "    <tr>\n",
       "      <th>3</th>\n",
       "      <td>2847</td>\n",
       "      <td>67</td>\n",
       "      <td>43</td>\n",
       "      <td>105</td>\n",
       "      <td>100+</td>\n",
       "      <td>93711</td>\n",
       "      <td>4.0</td>\n",
       "      <td>1.7</td>\n",
       "      <td>Graduate</td>\n",
       "      <td>0</td>\n",
       "      <td>No</td>\n",
       "      <td>Yes</td>\n",
       "      <td>1</td>\n",
       "      <td>0</td>\n",
       "      <td>1</td>\n",
       "      <td>0</td>\n",
       "      <td>1</td>\n",
       "      <td>0</td>\n",
       "    </tr>\n",
       "    <tr>\n",
       "      <th>4</th>\n",
       "      <td>3265</td>\n",
       "      <td>67</td>\n",
       "      <td>41</td>\n",
       "      <td>114</td>\n",
       "      <td>100+</td>\n",
       "      <td>95616</td>\n",
       "      <td>4.0</td>\n",
       "      <td>2.4</td>\n",
       "      <td>Professional</td>\n",
       "      <td>0</td>\n",
       "      <td>No</td>\n",
       "      <td>Yes</td>\n",
       "      <td>1</td>\n",
       "      <td>0</td>\n",
       "      <td>1</td>\n",
       "      <td>0</td>\n",
       "      <td>1</td>\n",
       "      <td>0</td>\n",
       "    </tr>\n",
       "  </tbody>\n",
       "</table>\n",
       "</div>"
      ],
      "text/plain": [
       "     ID  Age (in years)  Experience (in years)  Income (in K/year)  \\\n",
       "0    15              67                     41                 112   \n",
       "1  1481              67                     42                  32   \n",
       "2  1860              67                     41                  20   \n",
       "3  2847              67                     43                 105   \n",
       "4  3265              67                     41                 114   \n",
       "\n",
       "  Income Categorical  ZIP Code  Family members  CCAvg      Education  \\\n",
       "0               100+     91741             1.0    2.0  Undergraduate   \n",
       "1               0-50     93943             1.0    1.1   Professional   \n",
       "2               0-50     91741             2.0    0.4  Undergraduate   \n",
       "3               100+     93711             4.0    1.7       Graduate   \n",
       "4               100+     95616             4.0    2.4   Professional   \n",
       "\n",
       "   Mortgage Securities Account Online  PL_No  PL_Yes  TD_No  TD_Yes  \\\n",
       "0         0                Yes     No      1       0      1       0   \n",
       "1         0                 No     No      1       0      1       0   \n",
       "2        80                 No     No      1       0      1       0   \n",
       "3         0                 No    Yes      1       0      1       0   \n",
       "4         0                 No    Yes      1       0      1       0   \n",
       "\n",
       "   Credit_No  Credit_Yes  \n",
       "0          1           0  \n",
       "1          0           1  \n",
       "2          1           0  \n",
       "3          1           0  \n",
       "4          1           0  "
      ]
     },
     "execution_count": 75,
     "metadata": {},
     "output_type": "execute_result"
    }
   ],
   "source": [
    "HBFC_dummies1.head(5)"
   ]
  },
  {
   "cell_type": "code",
   "execution_count": null,
   "id": "2bb1bae6",
   "metadata": {},
   "outputs": [],
   "source": [
    "filter_customer = "
   ]
  },
  {
   "cell_type": "code",
   "execution_count": null,
   "id": "f7d5fafd",
   "metadata": {},
   "outputs": [],
   "source": []
  },
  {
   "cell_type": "code",
   "execution_count": 77,
   "id": "26c8ddce",
   "metadata": {},
   "outputs": [
    {
     "data": {
      "text/plain": [
       "<Axes: xlabel='Education', ylabel='count'>"
      ]
     },
     "execution_count": 77,
     "metadata": {},
     "output_type": "execute_result"
    },
    {
     "data": {
      "image/png": "[encoded data removed]",
      "text/plain": [
       "<Figure size 640x480 with 1 Axes>"
      ]
     },
     "metadata": {},
     "output_type": "display_data"
    }
   ],
   "source": [
    "sns.countplot(data=HBFC, x='Education')"
   ]
  },
  {
   "cell_type": "code",
   "execution_count": 82,
   "id": "054aa56b",
   "metadata": {},
   "outputs": [
    {
     "data": {
      "text/plain": [
       "<Axes: >"
      ]
     },
     "execution_count": 82,
     "metadata": {},
     "output_type": "execute_result"
    },
    {
     "data": {
      "image/png": "[encoded data removed]",
      "text/plain": [
       "<Figure size 640x480 with 1 Axes>"
      ]
     },
     "metadata": {},
     "output_type": "display_data"
    }
   ],
   "source": [
    "HBFC['Personal Loan'].value_counts().plot(kind='bar')"
   ]
  },
  {
   "cell_type": "code",
   "execution_count": 89,
   "id": "c1c54fb0",
   "metadata": {},
   "outputs": [
    {
     "data": {
      "text/plain": [
       "Undergraduate    2096\n",
       "Professional     1501\n",
       "Graduate         1403\n",
       "Name: Education, dtype: int64"
      ]
     },
     "execution_count": 89,
     "metadata": {},
     "output_type": "execute_result"
    }
   ],
   "source": [
    "HBFC['Education'].value_counts()"
   ]
  },
  {
   "cell_type": "code",
   "execution_count": 90,
   "id": "29dba453",
   "metadata": {},
   "outputs": [
    {
     "data": {
      "text/plain": [
       "<Axes: ylabel='Education'>"
      ]
     },
     "execution_count": 90,
     "metadata": {},
     "output_type": "execute_result"
    },
    {
     "data": {
      "image/png": "[encoded data removed]",
      "text/plain": [
       "<Figure size 640x480 with 1 Axes>"
      ]
     },
     "metadata": {},
     "output_type": "display_data"
    }
   ],
   "source": [
    "HBFC['Education'].value_counts().plot(kind='pie',autopct='%.1f%%',labels=['Undergraduate-2096', 'Professional-1501', 'Graduate-1403'])\n"
   ]
  },
  {
   "cell_type": "code",
   "execution_count": null,
   "id": "a68caf68",
   "metadata": {},
   "outputs": [],
   "source": []
  },
  {
   "cell_type": "code",
   "execution_count": null,
   "id": "d424f2f9",
   "metadata": {},
   "outputs": [],
   "source": []
  },
  {
   "cell_type": "code",
   "execution_count": null,
   "id": "24803a42",
   "metadata": {},
   "outputs": [],
   "source": []
  }
 ],
 "metadata": {
  "kernelspec": {
   "display_name": "Python 3 (ipykernel)",
   "language": "python",
   "name": "python3"
  },
  "language_info": {
   "codemirror_mode": {
    "name": "ipython",
    "version": 3
   },
   "file_extension": ".py",
   "mimetype": "text/x-python",
   "name": "python",
   "nbconvert_exporter": "python",
   "pygments_lexer": "ipython3",
   "version": "3.11.4"
  }
 },
 "nbformat": 4,
 "nbformat_minor": 5
}
